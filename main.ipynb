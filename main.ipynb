{
 "cells": [
  {
   "cell_type": "markdown",
   "id": "01d8319b",
   "metadata": {},
   "source": [
    "# Creating the Dataframe and developing it"
   ]
  },
  {
   "cell_type": "code",
   "execution_count": 2,
   "id": "7e4a19b9",
   "metadata": {},
   "outputs": [],
   "source": [
    "import pandas as pd"
   ]
  },
  {
   "cell_type": "code",
   "execution_count": 4,
   "id": "702d2d37",
   "metadata": {},
   "outputs": [],
   "source": [
    "df = pd.read_csv(\"data/orders.csv\", header=None)\n",
    "names = {0: \"order_id\",\n",
    "1: \"activation_time_local\",\n",
    "2: \"country_code\",\n",
    "3: \"store_address\",\n",
    "4: \"final_status\",\n",
    "5: \"payment_status\",\n",
    "6: \"products\",\n",
    "7: \"products_total\",\n",
    "8: \"purchase_total_price\"}\n",
    "df = df.rename(columns=names)"
   ]
  },
  {
   "cell_type": "code",
   "execution_count": 5,
   "id": "7608d87c",
   "metadata": {},
   "outputs": [],
   "source": [
    "def compare_values(row):\n",
    "    if row[\"products_total\"] < row[\"purchase_total_price\"]:\n",
    "        return \"under-authorized\"\n",
    "    else:\n",
    "        return \"authorized\"\n",
    "df[\"auth_status\"] = df.apply(compare_values, axis=1)"
   ]
  },
  {
   "cell_type": "markdown",
   "id": "18045274",
   "metadata": {},
   "source": [
    "# Question 1 - What percent of orders are under-authorized? "
   ]
  },
  {
   "cell_type": "code",
   "execution_count": 7,
   "id": "5c41b6d2",
   "metadata": {},
   "outputs": [
    {
     "name": "stdout",
     "output_type": "stream",
     "text": [
      "The percentage of orders that are under-authorized is: 57.58%\n"
     ]
    }
   ],
   "source": [
    "under_authorized_count = df[df['auth_status'] == 'under-authorized'].shape[0]\n",
    "\n",
    "# Calculate the total number of orders\n",
    "total_orders = df.shape[0]\n",
    "\n",
    "percentage_under_authorized = (under_authorized_count / total_orders) * 100\n",
    "\n",
    "print(f\"The percentage of orders that are under-authorized is: {percentage_under_authorized:.2f}%\")"
   ]
  },
  {
   "cell_type": "markdown",
   "id": "ae605862",
   "metadata": {},
   "source": [
    "# Question 2 - What percent of orders would be correctly authorized w/ incremental authorisation"
   ]
  },
  {
   "cell_type": "code",
   "execution_count": 9,
   "id": "254ee0ed",
   "metadata": {},
   "outputs": [],
   "source": [
    "def compare_values_20(row):\n",
    "    if (row[\"products_total\"]*1.2) < row[\"purchase_total_price\"]:\n",
    "        return \"under-authorized\"\n",
    "    else:\n",
    "        return \"authorized\"\n",
    "df[\"auth_status_20\"] = df.apply(compare_values_20, axis=1)\n",
    "\n"
   ]
  }
 ],
 "metadata": {
  "kernelspec": {
   "display_name": "ironhack",
   "language": "python",
   "name": "ironhack"
  },
  "language_info": {
   "codemirror_mode": {
    "name": "ipython",
    "version": 3
   },
   "file_extension": ".py",
   "mimetype": "text/x-python",
   "name": "python",
   "nbconvert_exporter": "python",
   "pygments_lexer": "ipython3",
   "version": "3.11.5"
  }
 },
 "nbformat": 4,
 "nbformat_minor": 5
}
