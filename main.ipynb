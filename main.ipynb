{
 "cells": [
  {
   "cell_type": "markdown",
   "id": "28e233c6",
   "metadata": {},
   "source": [
    "# Creating the Dataframe and developing it"
   ]
  },
  {
   "cell_type": "code",
   "execution_count": 2,
   "id": "47604e1e",
   "metadata": {},
   "outputs": [],
   "source": [
    "import pandas as pd"
   ]
  },
  {
   "cell_type": "code",
   "execution_count": 4,
   "id": "fb0e4361",
   "metadata": {},
   "outputs": [],
   "source": [
    "df = pd.read_csv(\"data/orders.csv\", header=None)\n",
    "names = {0: \"order_id\",\n",
    "1: \"activation_time_local\",\n",
    "2: \"country_code\",\n",
    "3: \"store_address\",\n",
    "4: \"final_status\",\n",
    "5: \"payment_status\",\n",
    "6: \"products\",\n",
    "7: \"products_total\",\n",
    "8: \"purchase_total_price\"}\n",
    "df = df.rename(columns=names)"
   ]
  },
  {
   "cell_type": "code",
   "execution_count": 5,
   "id": "d669b692",
   "metadata": {},
   "outputs": [],
   "source": [
    "def compare_values(row):\n",
    "    if row[\"products_total\"] < row[\"purchase_total_price\"]:\n",
    "        return \"under-authorized\"\n",
    "    else:\n",
    "        return \"authorized\"\n",
    "df[\"auth_status\"] = df.apply(compare_values, axis=1)"
   ]
  },
  {
   "cell_type": "markdown",
   "id": "453a4a13",
   "metadata": {},
   "source": [
    "# Question 1 - What percent of orders are under-authorized? "
   ]
  },
  {
   "cell_type": "code",
   "execution_count": 7,
   "id": "a814e6a1",
   "metadata": {},
   "outputs": [
    {
     "name": "stdout",
     "output_type": "stream",
     "text": [
      "The percentage of orders that are under-authorized is: 57.58%\n"
     ]
    }
   ],
   "source": [
    "under_authorized_count = df[df['auth_status'] == 'under-authorized'].shape[0]\n",
    "\n",
    "# Calculate the total number of orders\n",
    "total_orders = df.shape[0]\n",
    "\n",
    "percentage_under_authorized = (under_authorized_count / total_orders) * 100\n",
    "\n",
    "print(f\"The percentage of orders that are under-authorized is: {percentage_under_authorized:.2f}%\")"
   ]
  },
  {
   "cell_type": "markdown",
   "id": "2c0a38d9",
   "metadata": {},
   "source": [
    "# Question 2 - What percent of orders would be correctly authorized w/ incremental authorisation"
   ]
  },
  {
   "cell_type": "code",
   "execution_count": 9,
   "id": "ff3a6192",
   "metadata": {},
   "outputs": [],
   "source": [
    "def compare_values_20(row):\n",
    "    if (row[\"products_total\"]*1.2) < row[\"purchase_total_price\"]:\n",
    "        return \"under-authorized\"\n",
    "    else:\n",
    "        return \"authorized\"\n",
    "df[\"auth_status_20\"] = df.apply(compare_values_20, axis=1)\n",
    "\n"
   ]
  },
  {
   "cell_type": "code",
   "execution_count": 10,
   "id": "c05df9eb",
   "metadata": {},
   "outputs": [
    {
     "name": "stdout",
     "output_type": "stream",
     "text": [
      "The percentage of orders that are authorized is: 69.03%\n"
     ]
    }
   ],
   "source": [
    "authorized_20_count = df[df['auth_status_20'] == 'authorized'].shape[0]\n",
    "\n",
    "# Calculate the total number of orders\n",
    "total_orders = df.shape[0]\n",
    "\n",
    "percentage_authorized = (authorized_20_count / total_orders) * 100\n",
    "\n",
    "print(f\"The percentage of orders that are authorized is: {percentage_authorized:.2f}%\")"
   ]
  },
  {
   "cell_type": "markdown",
   "id": "b09a9a5d",
   "metadata": {},
   "source": [
    "# Question 3 - Are there differences when split by country? "
   ]
  },
  {
   "cell_type": "code",
   "execution_count": null,
   "id": "df3ead06",
   "metadata": {},
   "outputs": [],
   "source": []
  },
  {
   "cell_type": "code",
   "execution_count": null,
   "id": "369d1cdd",
   "metadata": {},
   "outputs": [],
   "source": []
  },
  {
   "cell_type": "code",
   "execution_count": null,
   "id": "4e6c7eb8",
   "metadata": {},
   "outputs": [],
   "source": []
  },
  {
   "cell_type": "code",
   "execution_count": null,
   "id": "a083fe34",
   "metadata": {},
   "outputs": [],
   "source": []
  },
  {
   "cell_type": "code",
   "execution_count": null,
   "id": "8eb9bca9",
   "metadata": {},
   "outputs": [],
   "source": []
  },
  {
   "cell_type": "code",
   "execution_count": null,
   "id": "fe0d6f49",
   "metadata": {},
   "outputs": [],
   "source": []
  },
  {
   "cell_type": "markdown",
   "id": "12c3aae0",
   "metadata": {},
   "source": [
    "# Question 4 - For the remainder of orders that would be outside of incremental auth what  values would be necessary to capture the remaining amount?"
   ]
  },
  {
   "cell_type": "code",
   "execution_count": 11,
   "id": "52a0f86a",
   "metadata": {},
   "outputs": [],
   "source": [
    "df[\"products_total_20\"] = df[\"products_total\"]*1.2"
   ]
  },
  {
   "cell_type": "code",
   "execution_count": 12,
   "id": "713de2d1",
   "metadata": {},
   "outputs": [
    {
     "name": "stderr",
     "output_type": "stream",
     "text": [
      "/var/folders/sz/x51nf6p57096mncqbrxctq940000gn/T/ipykernel_83713/4260061201.py:4: FutureWarning: Setting an item of incompatible dtype is deprecated and will raise an error in a future version of pandas. Value '[3.192 3.048 7.71  ... 2.298 2.762 3.212]' has dtype incompatible with int64, please explicitly cast to a compatible dtype first.\n",
      "  df.loc[df['purchase_total_price'] > df['products_total_20'], 'price_difference'] = df['purchase_total_price'] - df['products_total_20']\n"
     ]
    }
   ],
   "source": [
    "df['price_difference'] = 0  \n",
    "\n",
    "\n",
    "df.loc[df['purchase_total_price'] > df['products_total_20'], 'price_difference'] = df['purchase_total_price'] - df['products_total_20']"
   ]
  },
  {
   "cell_type": "markdown",
   "id": "32f005a8",
   "metadata": {},
   "source": [
    "# Question 5 - Which stores are the most problematic in terms of orders and monetary value?  "
   ]
  },
  {
   "cell_type": "code",
   "execution_count": null,
   "id": "06aa3f91",
   "metadata": {},
   "outputs": [],
   "source": []
  },
  {
   "cell_type": "code",
   "execution_count": null,
   "id": "73205926",
   "metadata": {},
   "outputs": [],
   "source": []
  },
  {
   "cell_type": "code",
   "execution_count": null,
   "id": "3ed49a29",
   "metadata": {},
   "outputs": [],
   "source": []
  },
  {
   "cell_type": "code",
   "execution_count": null,
   "id": "9d511404",
   "metadata": {},
   "outputs": [],
   "source": []
  },
  {
   "cell_type": "code",
   "execution_count": null,
   "id": "324bc450",
   "metadata": {},
   "outputs": [],
   "source": []
  },
  {
   "cell_type": "markdown",
   "id": "08eb3974",
   "metadata": {},
   "source": [
    "# Question 6 For under-auth orders is there a correlation between the difference in the prices and  the cancellation of the order? In other words: Is an order more likely to be cancelled as the price difference increases?  \n"
   ]
  },
  {
   "cell_type": "code",
   "execution_count": 14,
   "id": "4b4fb422",
   "metadata": {},
   "outputs": [
    {
     "data": {
      "image/png": "[encoded data removed]",
      "text/plain": [
       "<Figure size 1000x600 with 1 Axes>"
      ]
     },
     "metadata": {},
     "output_type": "display_data"
    }
   ],
   "source": [
    "import matplotlib.pyplot as plt\n",
    "\n",
    "# Assuming df is your DataFrame containing the provided data\n",
    "\n",
    "# Filter out under-authorized orders\n",
    "under_auth_orders = df[df['auth_status'] == 'under-authorized']\n",
    "\n",
    "# Create a scatter plot\n",
    "plt.figure(figsize=(10, 6))\n",
    "plt.scatter(under_auth_orders['price_difference'], under_auth_orders['final_status'], alpha=0.5)\n",
    "plt.xlabel('Price Difference')\n",
    "plt.ylabel('Final Status')\n",
    "plt.title('Scatter Plot of Price Difference vs Final Status')\n",
    "plt.show()"
   ]
  },
  {
   "cell_type": "code",
   "execution_count": 15,
   "id": "4dc271c6",
   "metadata": {},
   "outputs": [
    {
     "name": "stdout",
     "output_type": "stream",
     "text": [
      "The point-biserial correlation coefficient between price_difference and final_status is: 0.12\n"
     ]
    },
    {
     "name": "stderr",
     "output_type": "stream",
     "text": [
      "/var/folders/sz/x51nf6p57096mncqbrxctq940000gn/T/ipykernel_83713/3785033801.py:8: SettingWithCopyWarning: \n",
      "A value is trying to be set on a copy of a slice from a DataFrame.\n",
      "Try using .loc[row_indexer,col_indexer] = value instead\n",
      "\n",
      "See the caveats in the documentation: https://pandas.pydata.org/pandas-docs/stable/user_guide/indexing.html#returning-a-view-versus-a-copy\n",
      "  under_auth_orders['final_status_binary'] = (under_auth_orders['final_status'] == 'CanceledStatus').astype(int)\n"
     ]
    }
   ],
   "source": [
    "import numpy as np\n",
    "\n",
    "# Assuming df is your DataFrame containing the provided data\n",
    "\n",
    "# Filter out under-authorized orders\n",
    "under_auth_orders = df[df['auth_status'] == 'under-authorized']\n",
    "\n",
    "under_auth_orders['final_status_binary'] = (under_auth_orders['final_status'] == 'CanceledStatus').astype(int)\n",
    "\n",
    "correlation = np.corrcoef(under_auth_orders['price_difference'], under_auth_orders['final_status_binary'])[0, 1]\n",
    "\n",
    "print(f\"The point-biserial correlation coefficient between price_difference and final_status is: {correlation:.2f}\")"
   ]
  }
 ],
 "metadata": {
  "kernelspec": {
   "display_name": "ironhack",
   "language": "python",
   "name": "ironhack"
  },
  "language_info": {
   "codemirror_mode": {
    "name": "ipython",
    "version": 3
   },
   "file_extension": ".py",
   "mimetype": "text/x-python",
   "name": "python",
   "nbconvert_exporter": "python",
   "pygments_lexer": "ipython3",
   "version": "3.11.5"
  }
 },
 "nbformat": 4,
 "nbformat_minor": 5
}
